{
 "cells": [
  {
   "cell_type": "markdown",
   "metadata": {
    "slideshow": {
     "slide_type": "slide"
    }
   },
   "source": [
    "\n",
    " # Connecting Networks\n",
    "* **scikit-rf** supports the connection of arbitrary ports of N-port networks. \n",
    "\n",
    "<center><img src=\"figures/circuit_general.svg\" width=\"400\"/></center>"
   ]
  },
  {
   "cell_type": "markdown",
   "metadata": {
    "slideshow": {
     "slide_type": "fragment"
    }
   },
   "source": [
    "* Note that port impedances are taken into account: if two connected ports have different port impedances, an appropriate impedance mismatch is inserted."
   ]
  },
  {
   "cell_type": "markdown",
   "metadata": {
    "slideshow": {
     "slide_type": "slide"
    }
   },
   "source": [
    "## Cascading Networks\n",
    "A common problem is to connect two Networks one to the other, also known as cascading Networks, which creates a new Network. The figure below illustrates sile simple situations, where the port numbers are identified in gray:\n",
    "\n",
    "<img src=\"figures/networks_connecting_2_2ports.svg\" width=\"600\">"
   ]
  },
  {
   "cell_type": "markdown",
   "metadata": {
    "slideshow": {
     "slide_type": "fragment"
    }
   },
   "source": [
    "or,\n",
    "\n",
    "<img src=\"figures/networks_connecting_2port_1port.svg\" width=\"600\">"
   ]
  },
  {
   "cell_type": "markdown",
   "metadata": {
    "slideshow": {
     "slide_type": "subslide"
    }
   },
   "source": [
    "Let's illustrate this by connecting a transmission line (2-port Network) to a short-circuit (1-port Network) to create a delay short (1-port Network):\n",
    "\n",
    "<img src=\"figures/networks_delay_short.svg\" width=\"600\">\n",
    "\n",
    "Cascading Networks being a frequent operation, it can done conveniently through the `**` operator or with the `cascade` function: "
   ]
  },
  {
   "cell_type": "code",
   "execution_count": null,
   "metadata": {
    "slideshow": {
     "slide_type": "fragment"
    }
   },
   "outputs": [],
   "source": [
    "import skrf as rf\n",
    "line = rf.data.wr2p2_line  # 2-port\n",
    "short = rf.data.wr2p2_short  # 1-port\n",
    "delayshort = line ** short  # --> 1-port Network\n",
    "print(delayshort)"
   ]
  },
  {
   "cell_type": "markdown",
   "metadata": {
    "slideshow": {
     "slide_type": "subslide"
    }
   },
   "source": [
    "or, equivalently using the `cascade()` function:"
   ]
  },
  {
   "cell_type": "code",
   "execution_count": null,
   "metadata": {
    "slideshow": {
     "slide_type": "-"
    }
   },
   "outputs": [],
   "source": [
    "delayshort2 = rf.cascade(line, short)\n",
    "print(delayshort2 == delayshort)  # the result is the same"
   ]
  },
  {
   "cell_type": "markdown",
   "metadata": {
    "slideshow": {
     "slide_type": "subslide"
    }
   },
   "source": [
    "It is of course possible to connect two 2-port Networks together: \n",
    "\n",
    "<center><img src=\"figures/cascade_2port_2port.png\", height=\"400\"/></center>"
   ]
  },
  {
   "cell_type": "code",
   "execution_count": null,
   "metadata": {
    "slideshow": {
     "slide_type": "-"
    }
   },
   "outputs": [],
   "source": [
    "double_line = line ** line  # or cascade(line, line)\n",
    "print(double_line)"
   ]
  },
  {
   "cell_type": "code",
   "execution_count": null,
   "metadata": {
    "slideshow": {
     "slide_type": "skip"
    }
   },
   "outputs": [],
   "source": [
    "line.plot_s_deg_unwrap(m=1, n=0)\n",
    "double_line.plot_s_deg_unwrap(m=1, n=0)"
   ]
  },
  {
   "cell_type": "markdown",
   "metadata": {
    "slideshow": {
     "slide_type": "slide"
    }
   },
   "source": [
    "## Connecting Networks with `connect()`\n",
    "The `connect()` function requires the Networks and the port numbers to connect together. In our example, the port 1 of the line is connected to the port 0 of the short: \n",
    "<img src=\"figures/networks_delay_short.svg\" width=\"600\">\n"
   ]
  },
  {
   "cell_type": "code",
   "execution_count": null,
   "metadata": {
    "slideshow": {
     "slide_type": "-"
    }
   },
   "outputs": [],
   "source": [
    "delayshort3 = rf.connect(line, 1, short, 0)\n",
    "print(delayshort3 == delayshort)"
   ]
  },
  {
   "cell_type": "markdown",
   "metadata": {
    "slideshow": {
     "slide_type": "subslide"
    }
   },
   "source": [
    "One often needs to cascade a chain Networks together:\n",
    "\n",
    "<img src=\"figures/networks_connecting_N_2ports.svg\" width=\"700\">\n",
    "or, \n",
    "<img src=\"figures/networks_connecting_N_2ports_1port.svg\" width=\"700\">\n",
    "\n",
    "\n",
    "which can be realized using chained `**` or the convenient function `cascade_list`:"
   ]
  },
  {
   "cell_type": "code",
   "execution_count": null,
   "metadata": {
    "slideshow": {
     "slide_type": "-"
    }
   },
   "outputs": [],
   "source": [
    "line1 = rf.data.wr2p2_line  # 2-port\n",
    "line2 = rf.data.wr2p2_line  # 2-port\n",
    "line3 = rf.data.wr2p2_line  # 2-port\n",
    "line4 = rf.data.wr2p2_line  # 2-port\n",
    "short = rf.data.wr2p2_short  # 1-port\n",
    "chain1 = line1 ** line2 ** line3 ** line4 ** short\n",
    "chain2 = rf.cascade_list([line1, line2, line3, line4, short])\n",
    "print(chain1 == chain2) "
   ]
  },
  {
   "cell_type": "markdown",
   "metadata": {
    "slideshow": {
     "slide_type": "slide"
    }
   },
   "source": [
    "## Cascading 2N-port Networks\n",
    "The cascading operator `**` also works for to 2N-port Networks, width the following port scheme: \n",
    "\n",
    "<img src=\"figures/networks_connecting_2_2Nports.svg\" width=\"1000\">\n",
    "\n",
    "It also works for multiple 2N-port Network. For example, assuming you want to cascade three 4-port Network `ntw1`, `ntw2` and `ntw3`, you can use:\n",
    "```\n",
    "resulting_ntw = ntw1 ** ntw2 ** ntw3\n",
    "``` "
   ]
  },
  {
   "cell_type": "markdown",
   "metadata": {
    "slideshow": {
     "slide_type": "slide"
    }
   },
   "source": [
    "## Cascading Multi-port Networks\n",
    "To make specific connections between multi-port Networks, two solutions are available, which mostly depends of the complexity of the circuit one wants to build:\n",
    "\n",
    "* For reduced number of connection(s): the `connect()` function\n",
    "\n",
    "* For advanced connections between many arbitrary N-port Networks, the `Circuit` object is more relevant since it allows defining explicitly the connections between ports and Networks. (cf. Next Section)"
   ]
  },
  {
   "cell_type": "markdown",
   "metadata": {
    "slideshow": {
     "slide_type": "subslide"
    }
   },
   "source": [
    "### Example: connecting a Tee\n",
    "As an example, terminating one of the port of an a 3-port Network, such as an ideal 3-way splitter:\n",
    "\n",
    "<img src=\"figures/networks_connecting_3port_1port.svg\" width=\"1000\">\n",
    "\n",
    "can be done like:"
   ]
  },
  {
   "cell_type": "markdown",
   "metadata": {
    "slideshow": {
     "slide_type": "fragment"
    }
   },
   "source": [
    "To connect port `1` of the tee, to port `0` of the delay short,\n"
   ]
  },
  {
   "cell_type": "code",
   "execution_count": null,
   "metadata": {
    "slideshow": {
     "slide_type": "-"
    }
   },
   "outputs": [],
   "source": [
    "tee = rf.data.tee\n",
    "terminated_tee = rf.connect(tee, 1, delayshort, 0)\n",
    "terminated_tee "
   ]
  },
  {
   "cell_type": "markdown",
   "metadata": {
    "slideshow": {
     "slide_type": "fragment"
    }
   },
   "source": [
    "In the previous example, the port #2 of the 3-port Network `tee` becomes the port #1 of the resulting 2-port Network. "
   ]
  },
  {
   "cell_type": "markdown",
   "metadata": {
    "slideshow": {
     "slide_type": "slide"
    }
   },
   "source": [
    "## Multiple Connections of Multi-port Networks with  `Connect()`\n",
    "Keeping track of the port numbering when using multiple time the `connect` function can be tedious... \n",
    "\n",
    "...this is the reason why the Circuit object can be simpler to use."
   ]
  },
  {
   "cell_type": "markdown",
   "metadata": {
    "slideshow": {
     "slide_type": "subslide"
    }
   },
   "source": [
    "Let's illustrate this with the following example: connecting the port #1 of a tee-junction (3-port) to the port #0 of a transmission line (2-port):\n",
    "\n",
    "<img src=\"figures/networks_connecting_3port_2port.svg\" width=\"600\">\n",
    "\n",
    "To keep track of the port scheme after the connection operation, let's change the port characteristic impedances (in red in the figure above):"
   ]
  },
  {
   "cell_type": "code",
   "execution_count": null,
   "metadata": {
    "slideshow": {
     "slide_type": "-"
    }
   },
   "outputs": [],
   "source": [
    "tee.z0 = [1, 2, 3]\n",
    "line.z0 = [10, 20]\n",
    "# the resulting network is:\n",
    "rf.connect(tee, 1, line, 0)"
   ]
  },
  {
   "cell_type": "markdown",
   "metadata": {
    "slideshow": {
     "slide_type": "slide"
    }
   },
   "source": [
    "# Advanced Circuits with `Circuit()`\n",
    "<img src=\"figures/circuit_general.svg\" align=\"right\" width=\"500\"/>\n",
    "\n",
    "**scikit-rf** allows creating circuits of arbitrary topology, consisting of an arbitrary number of N-ports Networks connected together.\n",
    "\n",
    "The figure illustrates a network with 2 ports, `Network` elements $N_i$ and intersections."
   ]
  },
  {
   "cell_type": "markdown",
   "metadata": {
    "slideshow": {
     "slide_type": "subslide"
    }
   },
   "source": [
    "<img src=\"figures/circuit_general.svg\" align=\"right\" width=\"500\"/>\n",
    "\n",
    "* Like in an electronic circuit simulator, the circuit must have one (or more) `Port` connected to the circuit. \n",
    "* The `Circuit` object allows one retrieving the M-ports `Network` (and thus its network parameters: $S$, $Z$, etc.), where M is the number of ports defined.\n",
    "* Moreover, the `Circuit` object also allows calculating the scattering matrix $S$ of the entire circuit, that is the \"internal\" scattering matrices for the various intersections in the circuit. "
   ]
  },
  {
   "cell_type": "markdown",
   "metadata": {
    "slideshow": {
     "slide_type": "subslide"
    }
   },
   "source": [
    "## The Connection List \n",
    "The connection list (\"netlist\") is defined as a List of List of interconnected Tuples `(network, port_number)`:\n",
    "\n",
    "```\n",
    "connexions = [\n",
    "    [(network1, network1_port_nb), (network2, network2_port_nb), (network2, network2_port_nb), ...],\n",
    "    ...\n",
    "]\n",
    "```"
   ]
  },
  {
   "cell_type": "markdown",
   "metadata": {
    "slideshow": {
     "slide_type": "subslide"
    }
   },
   "source": [
    "For example, the connexion list to construct the circuit above could be: \n",
    "<img src=\"figures/circuit_general.svg\" align=\"right\" width=\"500\"/>\n",
    "```\n",
    "connexions = [\n",
    "    [(port1, 0), (network1, 0), (network4, 0)],\n",
    "    [(network1, 1), (network2, 0), (network5, 0)],\n",
    "    [(network1, 2), (network3, 0)],\n",
    "    [(network2, 1), (network3, 1)],\n",
    "    [(network2, 2), (port2, 0)],\n",
    "    [(network5, 1), (ground1, 0)],\n",
    "    [(network4, 1), (open1, 0)]\n",
    "]\n",
    "```"
   ]
  },
  {
   "cell_type": "markdown",
   "metadata": {
    "slideshow": {
     "slide_type": "subslide"
    }
   },
   "source": [
    "* We have assumed that `port1`, `port2`, `ground1`, `open1` and all the `network1` to `network5` are scikit-rf Networks objects with same `Frequency`.\n",
    "* Networks can have different (real) characteristic impedances: mismatches are taken into account.\n",
    "\n",
    "* Convenience methods are provided to create ports and grounded connexions:\n",
    "\n",
    " * `Circuit.Port`\n",
    " * `Circuit.Ground`\n",
    " * `Circuit.SeriesImpedance`\n",
    " * `Circuit.ShuntAdmittance`\n",
    " * `Circuit.Open`"
   ]
  },
  {
   "cell_type": "markdown",
   "metadata": {
    "slideshow": {
     "slide_type": "subslide"
    }
   },
   "source": [
    "* Once the connexion list is defined, the `Circuit` is created with:\n",
    "\n",
    "```\n",
    "resulting_circuit = rf.Circuit(connexions)\n",
    "```\n",
    "where `resulting_circuit` is a `Circuit` object. \n",
    "\n",
    "* The resulting 2-ports `Network` is obtained with the `Circuit.network` parameter:\n",
    "\n",
    "```\n",
    "resulting_network = resulting_circuit.network\n",
    "```"
   ]
  },
  {
   "cell_type": "markdown",
   "metadata": {
    "slideshow": {
     "slide_type": "slide"
    }
   },
   "source": [
    "## Example: Loaded transmission line\n",
    "Assume that a $50\\Omega$ lossless transmission line is loaded with a $Z_L=75\\Omega$ impedance. \n",
    "\n",
    "<img src=\"figures/circuit_loaded_transmission_line1.svg\" width=\"800\"/>\n",
    "\n",
    "If the transmission line electric length is $\\theta=0$, then one would thus expect the reflection coefficient to be:\n",
    "\n",
    "$$\n",
    "\\rho = s = \\frac{Z_L - Z_0}{Z_L + Z_0} = 0.2\n",
    "$$"
   ]
  },
  {
   "cell_type": "code",
   "execution_count": null,
   "metadata": {
    "slideshow": {
     "slide_type": "subslide"
    }
   },
   "outputs": [],
   "source": [
    "Z_0 = 50\n",
    "Z_L = 75\n",
    "theta = 0\n",
    "\n",
    "# the necessary Frequency description\n",
    "freq = rf.Frequency(start=1, stop=2, unit='GHz', npoints=3)"
   ]
  },
  {
   "cell_type": "code",
   "execution_count": null,
   "metadata": {
    "slideshow": {
     "slide_type": "fragment"
    }
   },
   "outputs": [],
   "source": [
    "# The combination of a transmission line + a load can be created\n",
    "# using the convenience delay_load method\n",
    "# important: all the Network must have a unique \"name\" parameter\n",
    "tline_media = rf.DefinedGammaZ0(freq, z0=Z_0)\n",
    "delay_load = tline_media.delay_load(rf.zl_2_Gamma0(Z_0, Z_L), theta, \n",
    "                                    unit='deg', name='delay_load')"
   ]
  },
  {
   "cell_type": "code",
   "execution_count": null,
   "metadata": {
    "slideshow": {
     "slide_type": "subslide"
    }
   },
   "outputs": [],
   "source": [
    "# The input port of the circuit is defined with the Circuit.Port method\n",
    "port1 = rf.Circuit.Port(freq, 'port1', z0=Z_0)\n",
    "\n",
    "# connection list\n",
    "cnx = [\n",
    "    [(port1, 0), (delay_load, 0)]\n",
    "]"
   ]
  },
  {
   "cell_type": "code",
   "execution_count": null,
   "metadata": {
    "slideshow": {
     "slide_type": "subslide"
    }
   },
   "outputs": [],
   "source": [
    "# Building the circuit object\n",
    "cir = rf.Circuit(cnx)\n",
    "\n",
    "# Getting the resulting Network from the `network` parameter:\n",
    "ntw = cir.network\n",
    "print(ntw)"
   ]
  },
  {
   "cell_type": "code",
   "execution_count": null,
   "metadata": {
    "slideshow": {
     "slide_type": "fragment"
    }
   },
   "outputs": [],
   "source": [
    "# as expected the reflection coefficient is:\n",
    "print(ntw.s[0])"
   ]
  },
  {
   "cell_type": "markdown",
   "metadata": {
    "slideshow": {
     "slide_type": "subslide"
    }
   },
   "source": [
    "It is also possible to build the above circuit using a series impedance Network, then shorted:\n",
    "\n",
    "<img src=\"figures/circuit_loaded_transmission_line2.svg\" width=\"80%\"/>\n"
   ]
  },
  {
   "cell_type": "code",
   "execution_count": null,
   "metadata": {
    "slideshow": {
     "slide_type": "subslide"
    }
   },
   "outputs": [],
   "source": [
    "port1 = rf.Circuit.Port(freq, 'port1', z0=Z_0)\n",
    "# piece of transmission line and series impedance\n",
    "trans_line = tline_media.line(theta, unit='deg', name='trans_line')\n",
    "load = tline_media.resistor(Z_L, name='delay_load')\n",
    "# ground network (short)\n",
    "ground = rf.Circuit.Ground(freq, name='ground')\n",
    "\n",
    "# connexion list\n",
    "cnx = [\n",
    "    [(port1, 0), (trans_line, 0)],\n",
    "    [(trans_line, 1), (load, 0)],\n",
    "    [(load, 1), (ground, 0)]\n",
    "]\n",
    "# building the circuit\n",
    "cir = rf.Circuit(cnx)\n",
    "# the result if the same : \n",
    "print(cir.network.s[0])"
   ]
  },
  {
   "cell_type": "markdown",
   "metadata": {
    "slideshow": {
     "slide_type": "slide"
    }
   },
   "source": [
    "## Example: LC Filter\n",
    "Here we model a low-pass LC filter, with example values taken from [rf-tools.com](https://rf-tools.com/lc-filter/) :\n",
    "\n",
    "<img src=\"figures/circuit_filter1.svg\" width=\"50%\">"
   ]
  },
  {
   "cell_type": "code",
   "execution_count": null,
   "metadata": {
    "slideshow": {
     "slide_type": "subslide"
    }
   },
   "outputs": [],
   "source": [
    "freq = rf.Frequency(start=0.1, stop=10, unit='GHz', npoints=1001)\n",
    "tl_media = rf.DefinedGammaZ0(freq, z0=50, gamma=1j*freq.w/rf.c)\n",
    "C1 = tl_media.capacitor(3.222e-12, name='C1')\n",
    "C2 = tl_media.capacitor(82.25e-15, name='C2')\n",
    "C3 = tl_media.capacitor(3.222e-12, name='C3')\n",
    "L2 = tl_media.inductor(8.893e-9, name='L2')\n",
    "RL = tl_media.resistor(50, name='RL')\n",
    "gnd = rf.Circuit.Ground(freq, name='gnd')\n",
    "port1 = rf.Circuit.Port(freq, name='port1', z0=50) \n",
    "port2 = rf.Circuit.Port(freq, name='port2', z0=50)\n",
    "\n",
    "cnx = [\n",
    "    [(port1, 0), (C1, 0), (L2, 0), (C2, 0)],\n",
    "    [(L2, 1), (C2, 1), (C3, 0), (port2, 0)],\n",
    "    [(gnd, 0), (C1, 1), (C3, 1)],\n",
    "]\n",
    "cir = rf.Circuit(cnx)\n",
    "ntw = cir.network"
   ]
  },
  {
   "cell_type": "code",
   "execution_count": null,
   "metadata": {
    "slideshow": {
     "slide_type": "subslide"
    }
   },
   "outputs": [],
   "source": [
    "ntw.plot_s_db(m=0, n=0, lw=2, logx=True)\n",
    "ntw.plot_s_db(m=1, n=0, lw=2, logx=True)"
   ]
  },
  {
   "cell_type": "markdown",
   "metadata": {
    "slideshow": {
     "slide_type": "slide"
    }
   },
   "source": [
    "## Displaying Circuit's graph\n",
    "When building a `Circuit` made of several networks, it can be useful to represent the connexion graphically. This is possible using the `Circuit.plot_graph()`method. \n",
    "\n",
    "* Ports are indicated by triangles, \n",
    "* Network with squares\n",
    "* interconnections with circles. \n",
    "* It is possible to display the network names as well as their associated ports (and characteristic impedances): "
   ]
  },
  {
   "cell_type": "code",
   "execution_count": null,
   "metadata": {
    "slideshow": {
     "slide_type": "subslide"
    }
   },
   "outputs": [],
   "source": [
    "cir.plot_graph(network_labels=True, network_fontsize=15, port_labels=True, port_fontsize=15,\n",
    "              edge_labels=True, edge_fontsize=10)"
   ]
  }
 ],
 "metadata": {
  "celltoolbar": "Slideshow",
  "kernelspec": {
   "display_name": "Python 3 (ipykernel)",
   "language": "python",
   "name": "python3"
  },
  "language_info": {
   "codemirror_mode": {
    "name": "ipython",
    "version": 3
   },
   "file_extension": ".py",
   "mimetype": "text/x-python",
   "name": "python",
   "nbconvert_exporter": "python",
   "pygments_lexer": "ipython3",
   "version": "3.10.8"
  },
  "rise": {
   "footer": "<h3>  Connecting Networks</h3>"
  },
  "toc": {
   "base_numbering": 1,
   "nav_menu": {},
   "number_sections": true,
   "sideBar": true,
   "skip_h1_title": true,
   "title_cell": "Table of Contents",
   "title_sidebar": "Contents",
   "toc_cell": false,
   "toc_position": {},
   "toc_section_display": true,
   "toc_window_display": false
  }
 },
 "nbformat": 4,
 "nbformat_minor": 4
}
